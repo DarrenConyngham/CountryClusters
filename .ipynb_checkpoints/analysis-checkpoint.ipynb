{
 "cells": [
  {
   "cell_type": "markdown",
   "metadata": {},
   "source": [
    "# Introduction"
   ]
  },
  {
   "cell_type": "markdown",
   "metadata": {},
   "source": [
    "The World Bank hosts a wide range of data on its website. One subset of this data, called the World Development Indicators, is a panel dataset containing a wide range of indicators for all the countries in the World starting in 1960 and ending in 2019 (as of August 2020). You can easily download the data from this [link](https://datacatalog.worldbank.org/dataset/world-development-indicators). The dataset covers Health, Economic Development, Infrastructure, Climate Change and many other areas. The breadth of the dataset allows users to get a rich picture of the societal situation in each countries. The data is purely quantitative and so important aspects such as political system and culture are not included; at least not directly\n",
    "\n",
    "There are endless things that you can use this dataset for but one particularly powerful one is clustering. Unsupervised Learning techniques such as Hierarchical Clustering and K-Means Clustering allow us to group similar countries together. In this scenario, we can use these techniques to better understand the relationships between different countries in the world. This allows us to answer questions like: \"Which countries are most similar to India?\", \"What is the most unique country in the World?\", and \"How much does Geography play in country similarity?\". "
   ]
  },
  {
   "cell_type": "markdown",
   "metadata": {},
   "source": [
    "# The Dataset"
   ]
  },
  {
   "cell_type": "markdown",
   "metadata": {},
   "source": [
    "This project uses a csv file for the data: `WDIData.csv` (`df`) which contains the data used in the analysis. There are a number of missing values and unnecessary rows and we will work towards cleaning the data in the next section. "
   ]
  },
  {
   "cell_type": "code",
   "execution_count": 1,
   "metadata": {},
   "outputs": [],
   "source": [
    "import pandas as pd\n",
    "import matplotlib.pyplot as plt\n",
    "import scipy.cluster.hierarchy as sch\n",
    "import seaborn as sns"
   ]
  },
  {
   "cell_type": "code",
   "execution_count": 2,
   "metadata": {},
   "outputs": [],
   "source": [
    "df = pd.read_csv('data_and_metadata/WDIData.csv')"
   ]
  },
  {
   "cell_type": "code",
   "execution_count": 3,
   "metadata": {},
   "outputs": [
    {
     "name": "stdout",
     "output_type": "stream",
     "text": [
      "<class 'pandas.core.frame.DataFrame'>\n",
      "RangeIndex: 377784 entries, 0 to 377783\n",
      "Data columns (total 65 columns):\n",
      " #   Column          Non-Null Count   Dtype  \n",
      "---  ------          --------------   -----  \n",
      " 0   Country Name    377784 non-null  object \n",
      " 1   Country Code    377784 non-null  object \n",
      " 2   Indicator Name  377784 non-null  object \n",
      " 3   Indicator Code  377784 non-null  object \n",
      " 4   1960            37085 non-null   float64\n",
      " 5   1961            41471 non-null   float64\n",
      " 6   1962            43673 non-null   float64\n",
      " 7   1963            43553 non-null   float64\n",
      " 8   1964            44098 non-null   float64\n",
      " 9   1965            46608 non-null   float64\n",
      " 10  1966            46314 non-null   float64\n",
      " 11  1967            48032 non-null   float64\n",
      " 12  1968            47594 non-null   float64\n",
      " 13  1969            49477 non-null   float64\n",
      " 14  1970            70456 non-null   float64\n",
      " 15  1971            76771 non-null   float64\n",
      " 16  1972            79536 non-null   float64\n",
      " 17  1973            79135 non-null   float64\n",
      " 18  1974            80551 non-null   float64\n",
      " 19  1975            84584 non-null   float64\n",
      " 20  1976            86656 non-null   float64\n",
      " 21  1977            90100 non-null   float64\n",
      " 22  1978            89719 non-null   float64\n",
      " 23  1979            90588 non-null   float64\n",
      " 24  1980            95296 non-null   float64\n",
      " 25  1981            97177 non-null   float64\n",
      " 26  1982            98454 non-null   float64\n",
      " 27  1983            98272 non-null   float64\n",
      " 28  1984            99067 non-null   float64\n",
      " 29  1985            100337 non-null  float64\n",
      " 30  1986            101118 non-null  float64\n",
      " 31  1987            102475 non-null  float64\n",
      " 32  1988            102052 non-null  float64\n",
      " 33  1989            103850 non-null  float64\n",
      " 34  1990            127202 non-null  float64\n",
      " 35  1991            132640 non-null  float64\n",
      " 36  1992            136741 non-null  float64\n",
      " 37  1993            137957 non-null  float64\n",
      " 38  1994            139967 non-null  float64\n",
      " 39  1995            148014 non-null  float64\n",
      " 40  1996            147733 non-null  float64\n",
      " 41  1997            148909 non-null  float64\n",
      " 42  1998            150831 non-null  float64\n",
      " 43  1999            156211 non-null  float64\n",
      " 44  2000            181781 non-null  float64\n",
      " 45  2001            172155 non-null  float64\n",
      " 46  2002            176998 non-null  float64\n",
      " 47  2003            177612 non-null  float64\n",
      " 48  2004            182912 non-null  float64\n",
      " 49  2005            195795 non-null  float64\n",
      " 50  2006            194394 non-null  float64\n",
      " 51  2007            198393 non-null  float64\n",
      " 52  2008            197756 non-null  float64\n",
      " 53  2009            197733 non-null  float64\n",
      " 54  2010            213972 non-null  float64\n",
      " 55  2011            204254 non-null  float64\n",
      " 56  2012            207054 non-null  float64\n",
      " 57  2013            202080 non-null  float64\n",
      " 58  2014            208672 non-null  float64\n",
      " 59  2015            205706 non-null  float64\n",
      " 60  2016            204739 non-null  float64\n",
      " 61  2017            187824 non-null  float64\n",
      " 62  2018            166196 non-null  float64\n",
      " 63  2019            84963 non-null   float64\n",
      " 64  Unnamed: 64     0 non-null       float64\n",
      "dtypes: float64(61), object(4)\n",
      "memory usage: 187.3+ MB\n"
     ]
    }
   ],
   "source": [
    "df.info()"
   ]
  },
  {
   "cell_type": "code",
   "execution_count": 5,
   "metadata": {},
   "outputs": [
    {
     "data": {
      "text/html": [
       "<div>\n",
       "<style scoped>\n",
       "    .dataframe tbody tr th:only-of-type {\n",
       "        vertical-align: middle;\n",
       "    }\n",
       "\n",
       "    .dataframe tbody tr th {\n",
       "        vertical-align: top;\n",
       "    }\n",
       "\n",
       "    .dataframe thead th {\n",
       "        text-align: right;\n",
       "    }\n",
       "</style>\n",
       "<table border=\"1\" class=\"dataframe\">\n",
       "  <thead>\n",
       "    <tr style=\"text-align: right;\">\n",
       "      <th></th>\n",
       "      <th>Country Name</th>\n",
       "      <th>Country Code</th>\n",
       "      <th>Indicator Name</th>\n",
       "      <th>Indicator Code</th>\n",
       "      <th>1960</th>\n",
       "      <th>1961</th>\n",
       "      <th>1962</th>\n",
       "      <th>1963</th>\n",
       "      <th>1964</th>\n",
       "      <th>1965</th>\n",
       "      <th>...</th>\n",
       "      <th>2011</th>\n",
       "      <th>2012</th>\n",
       "      <th>2013</th>\n",
       "      <th>2014</th>\n",
       "      <th>2015</th>\n",
       "      <th>2016</th>\n",
       "      <th>2017</th>\n",
       "      <th>2018</th>\n",
       "      <th>2019</th>\n",
       "      <th>Unnamed: 64</th>\n",
       "    </tr>\n",
       "  </thead>\n",
       "  <tbody>\n",
       "    <tr>\n",
       "      <th>0</th>\n",
       "      <td>Arab World</td>\n",
       "      <td>ARB</td>\n",
       "      <td>Access to clean fuels and technologies for coo...</td>\n",
       "      <td>EG.CFT.ACCS.ZS</td>\n",
       "      <td>NaN</td>\n",
       "      <td>NaN</td>\n",
       "      <td>NaN</td>\n",
       "      <td>NaN</td>\n",
       "      <td>NaN</td>\n",
       "      <td>NaN</td>\n",
       "      <td>...</td>\n",
       "      <td>82.783289</td>\n",
       "      <td>83.120303</td>\n",
       "      <td>83.533457</td>\n",
       "      <td>83.897596</td>\n",
       "      <td>84.171599</td>\n",
       "      <td>84.510171</td>\n",
       "      <td>NaN</td>\n",
       "      <td>NaN</td>\n",
       "      <td>NaN</td>\n",
       "      <td>NaN</td>\n",
       "    </tr>\n",
       "    <tr>\n",
       "      <th>1</th>\n",
       "      <td>Arab World</td>\n",
       "      <td>ARB</td>\n",
       "      <td>Access to electricity (% of population)</td>\n",
       "      <td>EG.ELC.ACCS.ZS</td>\n",
       "      <td>NaN</td>\n",
       "      <td>NaN</td>\n",
       "      <td>NaN</td>\n",
       "      <td>NaN</td>\n",
       "      <td>NaN</td>\n",
       "      <td>NaN</td>\n",
       "      <td>...</td>\n",
       "      <td>87.199474</td>\n",
       "      <td>87.512260</td>\n",
       "      <td>88.129881</td>\n",
       "      <td>87.275323</td>\n",
       "      <td>88.720097</td>\n",
       "      <td>89.308602</td>\n",
       "      <td>90.283638</td>\n",
       "      <td>89.286856</td>\n",
       "      <td>NaN</td>\n",
       "      <td>NaN</td>\n",
       "    </tr>\n",
       "  </tbody>\n",
       "</table>\n",
       "<p>2 rows × 65 columns</p>\n",
       "</div>"
      ],
      "text/plain": [
       "  Country Name Country Code  \\\n",
       "0   Arab World          ARB   \n",
       "1   Arab World          ARB   \n",
       "\n",
       "                                      Indicator Name  Indicator Code  1960  \\\n",
       "0  Access to clean fuels and technologies for coo...  EG.CFT.ACCS.ZS   NaN   \n",
       "1            Access to electricity (% of population)  EG.ELC.ACCS.ZS   NaN   \n",
       "\n",
       "   1961  1962  1963  1964  1965  ...       2011       2012       2013  \\\n",
       "0   NaN   NaN   NaN   NaN   NaN  ...  82.783289  83.120303  83.533457   \n",
       "1   NaN   NaN   NaN   NaN   NaN  ...  87.199474  87.512260  88.129881   \n",
       "\n",
       "        2014       2015       2016       2017       2018  2019  Unnamed: 64  \n",
       "0  83.897596  84.171599  84.510171        NaN        NaN   NaN          NaN  \n",
       "1  87.275323  88.720097  89.308602  90.283638  89.286856   NaN          NaN  \n",
       "\n",
       "[2 rows x 65 columns]"
      ]
     },
     "execution_count": 5,
     "metadata": {},
     "output_type": "execute_result"
    }
   ],
   "source": [
    "df.head(2)"
   ]
  },
  {
   "cell_type": "markdown",
   "metadata": {},
   "source": [
    "# Cleaning the Data"
   ]
  },
  {
   "cell_type": "markdown",
   "metadata": {},
   "source": [
    "There are two main issues with the dataset in its raw format: 1) there are a number of redundant rows and columns, 2) There are a number of missing values"
   ]
  },
  {
   "cell_type": "markdown",
   "metadata": {},
   "source": [
    "## Reduntant Rows and Columns"
   ]
  },
  {
   "cell_type": "markdown",
   "metadata": {},
   "source": [
    "The reduntant rows and columns stem from the fact that the aim of the project is to cluster **countries** in their **current** state. The World Bank dataset contains data from 1960 to 2019 and (as can be seen below the `df.head(2)` cell) contains country groupings such as \"Arab World\". \n",
    "\n",
    "Filtering out the country groupings is relatively straightforward. Online I found a list of the ISO3 Codes of all countries in the world and then only selected the rows which contained these ISO Codes in the `df['Country Code']` column."
   ]
  },
  {
   "cell_type": "code",
   "execution_count": 6,
   "metadata": {},
   "outputs": [
    {
     "name": "stdout",
     "output_type": "stream",
     "text": [
      "(377784, 65)\n",
      "(310527, 65)\n"
     ]
    }
   ],
   "source": [
    "iso_countries = ['AFG', 'ALB', 'DZA', 'ASM', 'AND', 'AGO', 'ATG', 'ARG', 'ARM', 'ABW', 'AUS', 'AUT', 'AZE', 'BHS', 'SXM',\n",
    "                 'BHR', 'BGD', 'BRB', 'BLR', 'BEL', 'BLZ', 'BEN', 'BMU', 'BTN', 'BOL', 'BIH', 'BWA', 'BRA', 'VGB', 'BRN',\n",
    "                 'BGR', 'BFA', 'BDI', 'CPV', 'KHM', 'CMR', 'CAN', 'CYM', 'CAF', 'TCD', 'CHI', 'CHL', 'CHN', 'COL', 'COM',\n",
    "                 'COD', 'COG', 'CRI', 'CIV', 'HRV', 'CUB', 'CUW', 'CYP', 'CZE', 'DNK', 'DJI', 'DMA', 'DOM', 'ECU', 'EGY',\n",
    "                 'SLV', 'GNQ', 'ERI', 'EST', 'SWZ', 'ETH', 'FRO', 'FJI', 'FIN', 'FRA', 'PYF', 'GAB', 'GMB', 'GEO', 'DEU',\n",
    "                 'GHA', 'GIB', 'GRC', 'GRL', 'GRD', 'GUM', 'GTM', 'GIN', 'GNB', 'GUY', 'HTI', 'HND', 'HKG', 'HUN', 'ISL',\n",
    "                 'IND', 'IDN', 'IRN', 'IRQ', 'IRL', 'IMN', 'ISR', 'ITA', 'JAM', 'JPN', 'JOR', 'KAZ', 'KEN', 'KIR', 'PRK',\n",
    "                 'KOR', 'XKX', 'KWT', 'KGZ', 'LAO', 'LVA', 'LBN', 'LSO', 'LBR', 'LBY', 'LIE', 'LTU', 'LUX', 'MAC', 'MDG',\n",
    "                 'MWI', 'MYS', 'MDV', 'MLI', 'MLT', 'MHL', 'MRT', 'MUS', 'MEX', 'FSM', 'MDA', 'MCO', 'MNG', 'MNE', 'MAR',\n",
    "                 'MOZ', 'MMR', 'NAM', 'NRU', 'NPL', 'NLD', 'NCL', 'NZL', 'NIC', 'NER', 'NGA', 'MKD', 'MNP', 'NOR', 'OMN',\n",
    "                 'PAK', 'PLW', 'PAN', 'PNG', 'PRY', 'PER', 'PHL', 'POL', 'PRT', 'PRI', 'QAT', 'ROU', 'RUS', 'RWA', 'WSM',\n",
    "                 'SMR', 'STP', 'SAU', 'SEN', 'SRB', 'SYC', 'SLE', 'SGP', 'SVK', 'SVN', 'SLB', 'SOM', 'ZAF', 'SSD', 'ESP',\n",
    "                 'LKA', 'KNA', 'LCA', 'MAF', 'VCT', 'SDN', 'SUR', 'SWE', 'CHE', 'SYR', 'TJK', 'TZA', 'THA', 'TLS', 'TGO',\n",
    "                 'TON', 'TTO', 'TUN', 'TUR', 'TKM', 'TCA', 'TUV', 'UGA', 'UKR', 'ARE', 'GBR', 'USA', 'URY', 'UZB', 'VUT',\n",
    "                 'VEN', 'VNM', 'VIR', 'PSE', 'YEM', 'ZMB', 'ZWE']\n",
    "print(df.shape)\n",
    "df = df[df['Country Code'].isin(iso_countries)]\n",
    "print(df.shape)"
   ]
  },
  {
   "cell_type": "code",
   "execution_count": 7,
   "metadata": {},
   "outputs": [
    {
     "data": {
      "text/plain": [
       "217"
      ]
     },
     "execution_count": 7,
     "metadata": {},
     "output_type": "execute_result"
    }
   ],
   "source": [
    "len(iso_countries)"
   ]
  },
  {
   "cell_type": "markdown",
   "metadata": {},
   "source": [
    "The last column is full of missing values and so we can drop it."
   ]
  },
  {
   "cell_type": "code",
   "execution_count": 8,
   "metadata": {},
   "outputs": [],
   "source": [
    "df = df.iloc[:,:-1]"
   ]
  },
  {
   "cell_type": "markdown",
   "metadata": {},
   "source": [
    "Selecting the latest year seems straightforward but there is an issue. It often takes the World Bank some time to collect the data and therefore the latest year often has many missing values. As can be seen below, over half of the values in the 2019 column are missing. The column with the least missing values is 2015; but that is quite a long time ago. I decided to strike a balance and select the 2017 for this column for this analysis."
   ]
  },
  {
   "cell_type": "code",
   "execution_count": 13,
   "metadata": {},
   "outputs": [
    {
     "data": {
      "image/png": "[encoded data removed]",
      "text/plain": [
       "<Figure size 1224x504 with 1 Axes>"
      ]
     },
     "metadata": {
      "needs_background": "light"
     },
     "output_type": "display_data"
    }
   ],
   "source": [
    "plt.figure(figsize=(17,7))\n",
    "df.iloc[:, -10:].isna().sum().plot(kind='barh')\n",
    "plt.title('Number of missing values for the years 2010 to 2019 in the World Bank Dataset')\n",
    "plt.ylabel('Year')\n",
    "plt.xlabel('Number of Missing Values');"
   ]
  },
  {
   "cell_type": "code",
   "execution_count": 10,
   "metadata": {},
   "outputs": [],
   "source": [
    "dfcl = df[['Country Name', 'Indicator Name', '2017']]"
   ]
  },
  {
   "cell_type": "markdown",
   "metadata": {},
   "source": [
    "## Removing Missing Values"
   ]
  },
  {
   "cell_type": "markdown",
   "metadata": {},
   "source": [
    "Despite the work in the previous section there are still a lot of missing values. Typically, this is due to either the indicator being relatively abstract or the country in question has a lot of missing values. It is possible to just impute a value for the missing value by taking the mean of the indicator but this creates biases of its own. Two countries with many missing values may be clustered together when it is not necessarily the case that they are similar.\n",
    "\n",
    "Below, I remove Indicators and Countries which have too many missing values to include in the analysis. I have tried to err on the side of removing Indicators as opposed to countries as the analysis is focused on countries and many indicators have considerable overlap to each other. Initially, there are 1431 indicators but by removing the indicators with more than 50 missing countries I reduce that down to 457."
   ]
  },
  {
   "cell_type": "code",
   "execution_count": null,
   "metadata": {
    "scrolled": true
   },
   "outputs": [],
   "source": [
    "# selecting the indicators with less than 50 missing countries\n",
    "num_of_missing_rows = pd.DataFrame(dfcl.set_index('Indicator Name').isna().sum(level=0)['2017'].sort_values(\n",
    "             ascending=False))\n",
    "indicators_small_na = num_of_missing_rows[num_of_missing_rows['2017']<50].index.tolist()"
   ]
  },
  {
   "cell_type": "code",
   "execution_count": null,
   "metadata": {},
   "outputs": [],
   "source": [
    "len(indicators_small_na)"
   ]
  },
  {
   "cell_type": "code",
   "execution_count": null,
   "metadata": {},
   "outputs": [],
   "source": [
    "dfcl = dfcl[dfcl['Indicator Name'].isin(indicators_small_na)]"
   ]
  },
  {
   "cell_type": "code",
   "execution_count": null,
   "metadata": {},
   "outputs": [],
   "source": [
    "dfcl['2017'].isna().sum()"
   ]
  },
  {
   "cell_type": "markdown",
   "metadata": {},
   "source": [
    "The next step is removing the countries with too many missing indicators. I would like to keep as many countries as possible for the analysis so I only remove countries with 70 or more missing indicators. This allows me to keep 171 countries out of the original 217 countries in the dataset."
   ]
  },
  {
   "cell_type": "code",
   "execution_count": null,
   "metadata": {},
   "outputs": [],
   "source": [
    "# selecting the countries with less than 70 missing indicators\n",
    "countries_and_na_values = pd.DataFrame(dfcl.set_index('Country Name').isna().sum(level=0)['2017'].sort_values(\n",
    "             ascending=False))\n",
    "countries_small_na = countries_and_na_values[countries_and_na_values['2017']<70].index.tolist() \n",
    "dfcl = dfcl[dfcl['Country Name'].isin(countries_small_na)]"
   ]
  },
  {
   "cell_type": "code",
   "execution_count": null,
   "metadata": {},
   "outputs": [],
   "source": [
    "dfcl['2017'].isna().sum()"
   ]
  },
  {
   "cell_type": "code",
   "execution_count": null,
   "metadata": {},
   "outputs": [],
   "source": [
    "dfcl.shape"
   ]
  },
  {
   "cell_type": "markdown",
   "metadata": {},
   "source": [
    "There are still some missing values in the dataset. For these values I will simply fill in the values with the mean of the column."
   ]
  },
  {
   "cell_type": "code",
   "execution_count": null,
   "metadata": {},
   "outputs": [],
   "source": [
    "df_wide = dfcl.pivot_table(values='2017', index='Country Name', columns='Indicator Name')\n",
    "df_wide = df_wide.fillna(df_wide.mean())"
   ]
  },
  {
   "cell_type": "code",
   "execution_count": null,
   "metadata": {},
   "outputs": [],
   "source": [
    "df_wide.head(2)"
   ]
  },
  {
   "cell_type": "code",
   "execution_count": null,
   "metadata": {},
   "outputs": [],
   "source": [
    "df_wide.isna().sum()"
   ]
  },
  {
   "cell_type": "markdown",
   "metadata": {},
   "source": [
    "Finally, the data has been completely cleaned. It now contains 171 rows of countries and 457 columns indicators with no missing values."
   ]
  },
  {
   "cell_type": "markdown",
   "metadata": {},
   "source": [
    "## Initial Clustering"
   ]
  },
  {
   "cell_type": "markdown",
   "metadata": {},
   "source": [
    "To ensure that certain indicators are not weighted more strongly than others; I scale the figures."
   ]
  },
  {
   "cell_type": "code",
   "execution_count": null,
   "metadata": {},
   "outputs": [],
   "source": [
    "X = df_wide.values\n",
    "country_names = list(df_wide.index)"
   ]
  },
  {
   "cell_type": "code",
   "execution_count": null,
   "metadata": {},
   "outputs": [],
   "source": [
    "from sklearn.preprocessing import StandardScaler\n",
    "ss1 = StandardScaler()\n",
    "X_ss1 = ss1.fit_transform(X)"
   ]
  },
  {
   "cell_type": "code",
   "execution_count": null,
   "metadata": {},
   "outputs": [],
   "source": [
    "fig, ax = plt.subplots(figsize=(24,36))\n",
    "sch.dendrogram(sch.linkage(X_ss1, method='ward'), labels=country_names, orientation='left', leaf_font_size=6)\n",
    "ax.tick_params(axis='both', which='major', labelsize=12)"
   ]
  },
  {
   "cell_type": "markdown",
   "metadata": {},
   "source": [
    "EXPLAIN HOW TO READ THE DENDROGRAM\n",
    "\n",
    "Above is the first model. Although the font is difficult to read, you may notice some really weird and counterintuitive results. For example, the United States is most closely linked with India and China. \n",
    "\n",
    "Why do we get these results? Many of the indicators are dependant on the population of the country. For example, the Germany and Luxembourg both have high **GDP per capita** but the **Total GDP** of Germany is more similar to that of India than it is to that of Luxembourg.\n",
    "\n",
    "When I consider whether two countries are *similar*, I care less about absolute values and more about *relative* values. Germany and Luxembourg to me would be relatively similar if they had similare relative values despite having very different absolute values."
   ]
  },
  {
   "cell_type": "markdown",
   "metadata": {},
   "source": [
    "## Clustering adjusting for Population"
   ]
  },
  {
   "cell_type": "markdown",
   "metadata": {},
   "source": [
    "To deal with this issue of absolute number dominating the analysis, I only look at the subset of indicators which contain values which are adjusted for population. This is done by selecting the indicators which contain \"%\", \"per\", \"index\", and \"days\" in their name. This reduces the dataset to 277 indicators."
   ]
  },
  {
   "cell_type": "code",
   "execution_count": null,
   "metadata": {},
   "outputs": [],
   "source": [
    "dfcl.shape"
   ]
  },
  {
   "cell_type": "code",
   "execution_count": null,
   "metadata": {},
   "outputs": [],
   "source": [
    "non_pop_indicators = dfcl[dfcl['Indicator Name'].str.contains(\n",
    "    '|'.join(['%', ' per ', ' index ', 'days']))]['Indicator Name'].unique().tolist()\n",
    "df_wide_non_pop = df_wide[non_pop_indicators]"
   ]
  },
  {
   "cell_type": "code",
   "execution_count": null,
   "metadata": {},
   "outputs": [],
   "source": [
    "len(non_pop_indicators)"
   ]
  },
  {
   "cell_type": "code",
   "execution_count": null,
   "metadata": {},
   "outputs": [],
   "source": [
    "X = df_wide_non_pop.values\n",
    "country_names = list(df_wide_non_pop.index)"
   ]
  },
  {
   "cell_type": "code",
   "execution_count": null,
   "metadata": {},
   "outputs": [],
   "source": [
    "from sklearn.preprocessing import StandardScaler\n",
    "ss2 = StandardScaler()\n",
    "X_ss2 = ss2.fit_transform(X)"
   ]
  },
  {
   "cell_type": "code",
   "execution_count": null,
   "metadata": {},
   "outputs": [],
   "source": [
    "fig, ax = plt.subplots(figsize=(24,36))\n",
    "sch.dendrogram(sch.linkage(X_ss2, method='ward', optimal_ordering=True), labels=country_names, orientation='left', leaf_font_size=6)\n",
    "ax.tick_params(axis='both', which='major', labelsize=13)"
   ]
  },
  {
   "cell_type": "markdown",
   "metadata": {},
   "source": [
    "Finally we have our final results. To me these results make much more intuitive sense than the previous Dendrogram. For example, Australia and New Zealand, Tonga and Somoa, Germany and Austria, Sweden and Finland are all countries that intuitively feel to be closely related. This feel is reflected in the dendrogram. In both these cases the countries seem similar to me even though their sizes are quite different. There are some weirder results: Israel's closest relatives are Barbados and The Bahamas. This may be due to that fact that they all had a relatively large number of missing values and so were treated the same. \n",
    "\n",
    "Some observations:\n",
    "\n",
    "1) Wealth matters. The first major split divides the countries into a group containing roughly 3/4ths and 1/4ths of the countries. The one 1/4 group tends to contain very poor countries; many of which are located in Africa. The World Bank data does tend to lean pretty heavily on economic indicators but it still is surprising how strongly wealth plays a role in the analysis.\n",
    "\n",
    "2) Geography matters. The pair Latvia and Lithuania and the pair Germany and Austria are close competitors for the most closely-related pairs of countries in the world. Latvia and Lithuania and Germany and Austria all share borders. Countries that are closely related tend to share borders. One interesting exception is the United States whose closest relative is Switzerland.\n",
    "\n",
    "3) The most unique country in the world award goes to... **Iran**. This is not a total surprise. Iran is home to one of the world's longest continuing civilisations and, at least during 2017, was under strong sanctions from many countries. Both of these factors would entrench some distinctive characteristics to it. Other highly distinctive countries are Timor-Leste, Cyprus, Azerbaijan, Luxembourg, Liberia, and Sierra Leone."
   ]
  },
  {
   "cell_type": "code",
   "execution_count": null,
   "metadata": {},
   "outputs": [],
   "source": [
    "sch.linkage(X_ss2, method='ward')"
   ]
  },
  {
   "cell_type": "code",
   "execution_count": null,
   "metadata": {},
   "outputs": [],
   "source": []
  }
 ],
 "metadata": {
  "kernelspec": {
   "display_name": "sentdexv2",
   "language": "python",
   "name": "sentdexv2"
  },
  "language_info": {
   "codemirror_mode": {
    "name": "ipython",
    "version": 3
   },
   "file_extension": ".py",
   "mimetype": "text/x-python",
   "name": "python",
   "nbconvert_exporter": "python",
   "pygments_lexer": "ipython3",
   "version": "3.7.4"
  }
 },
 "nbformat": 4,
 "nbformat_minor": 4
}
